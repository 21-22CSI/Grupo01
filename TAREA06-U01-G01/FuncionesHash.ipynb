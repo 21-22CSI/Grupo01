{
  "nbformat": 4,
  "nbformat_minor": 0,
  "metadata": {
    "colab": {
      "name": "FuncionesHash.ipynb",
      "provenance": [],
      "collapsed_sections": []
    },
    "kernelspec": {
      "name": "python3",
      "display_name": "Python 3"
    },
    "language_info": {
      "name": "python"
    }
  },
  "cells": [
    {
      "cell_type": "markdown",
      "source": [
        "**Función MD5**"
      ],
      "metadata": {
        "id": "0xt7obcuZrGQ"
      }
    },
    {
      "cell_type": "code",
      "execution_count": null,
      "metadata": {
        "id": "P1vTHVbA4S9H"
      },
      "outputs": [],
      "source": [
        "import time\n",
        "import hashlib"
      ]
    },
    {
      "cell_type": "code",
      "source": [
        "start_file = time.time() \n",
        "\n",
        "f = open ('250w.txt', 'r')\n",
        "mensajeOriginal = f.read()\n",
        "\n",
        "end_file = time.time()\n",
        "print(\"Tiempo de lectura para el archivo (250 palabras): \" + format(end_file-start_file))\n",
        "print(\"\\r\")\n",
        "\n",
        "start_encrypt = time.time() \n",
        "\n",
        "md5_hash = hashlib.md5(mensajeOriginal.encode())\n",
        "\n",
        "result = md5_hash.hexdigest()\n",
        "print(\"Cifrado hexadecimal: \"+result)\n",
        "print(\"\\r\")\n",
        "end_encrypt = time.time()\n",
        "print(\"Tiempo de encriptacion para el archivo (250 palabras): \" + format(end_encrypt-start_encrypt))\n",
        "print(\"\\r\")\n",
        "\n",
        "\n",
        "start_desencrypt = time.time() \n",
        "\n",
        "diccionario = open ('diccionario.txt', 'r')\n",
        "\n",
        "for x in diccionario.readlines():\n",
        "            a = hashlib.md5(x.encode())\n",
        "            cmp = a.hexdigest()\n",
        "\n",
        "            if cmp == result:\n",
        "                print(\"Contraseña: %s - Has resuelto: %s - Encriptado con: %s\" %(str(a.rstrip()),str(cmp),str(type)))\n",
        "                print(\"\\r\")\n",
        "            else:\n",
        "                print(\"No se pudo desencriptar\")\n",
        "                print(\"\\r\")\n",
        "                break\n",
        "\n",
        "end_desencrypt = time.time() \n",
        "print(\"Tiempo de desencriptacion para el archivo (250 palabras): \" + format(end_desencrypt-start_desencrypt))"
      ],
      "metadata": {
        "colab": {
          "base_uri": "https://localhost:8080/"
        },
        "outputId": "871e4a84-2438-4d8c-9e56-4b47d90e6625",
        "id": "wJWMDQphaxo2"
      },
      "execution_count": null,
      "outputs": [
        {
          "output_type": "stream",
          "name": "stdout",
          "text": [
            "Tiempo de lectura para el archivo (250 palabras): 0.0003483295440673828\n",
            "\r\n",
            "Cifrado hexadecimal: 5cd1fc5f9d7366821733c31e4415239a\n",
            "\r\n",
            "Tiempo de encriptacion para el archivo (250 palabras): 0.0009210109710693359\n",
            "\r\n",
            "No se pudo desencriptar\n",
            "\r\n",
            "Tiempo de desencriptacion para el archivo (250 palabras): 0.0012464523315429688\n"
          ]
        }
      ]
    },
    {
      "cell_type": "code",
      "source": [
        "start_file = time.time() \n",
        "\n",
        "f = open ('500w.txt', 'r')\n",
        "mensajeOriginal = f.read()\n",
        "\n",
        "end_file = time.time()\n",
        "print(\"Tiempo de lectura para el archivo (500 palabras): \" + format(end_file-start_file))\n",
        "print(\"\\r\")\n",
        "\n",
        "start_encrypt = time.time() \n",
        "\n",
        "md5_hash = hashlib.md5(mensajeOriginal.encode())\n",
        "\n",
        "result = md5_hash.hexdigest()\n",
        "print(\"Cifrado hexadecimal: \"+result)\n",
        "print(\"\\r\")\n",
        "end_encrypt = time.time()\n",
        "print(\"Tiempo de encriptacion para el archivo (500 palabras): \" + format(end_encrypt-start_encrypt))\n",
        "print(\"\\r\")\n",
        "\n",
        "\n",
        "start_desencrypt = time.time() \n",
        "\n",
        "diccionario = open ('diccionario.txt', 'r')\n",
        "\n",
        "for x in diccionario.readlines():\n",
        "            a = hashlib.md5(x.encode())\n",
        "            cmp = a.hexdigest()\n",
        "\n",
        "            if cmp == result:\n",
        "                print(\"Contraseña: %s - Has resuelto: %s - Encriptado con: %s\" %(str(a.rstrip()),str(cmp),str(type)))\n",
        "                print(\"\\r\")\n",
        "            else:\n",
        "                print(\"No se pudo desencriptar\")\n",
        "                print(\"\\r\")\n",
        "                break\n",
        "\n",
        "end_desencrypt = time.time() \n",
        "print(\"Tiempo de desencriptacion para el archivo (500 palabras): \" + format(end_desencrypt-start_desencrypt))"
      ],
      "metadata": {
        "colab": {
          "base_uri": "https://localhost:8080/"
        },
        "outputId": "ab6ba085-0b7b-4d5d-8f8a-6d12e7441579",
        "id": "kMB7kApjatjh"
      },
      "execution_count": null,
      "outputs": [
        {
          "output_type": "stream",
          "name": "stdout",
          "text": [
            "Tiempo de lectura para el archivo (500 palabras): 0.00019812583923339844\n",
            "\r\n",
            "Cifrado hexadecimal: 42f3a25d4bdd23936e5e48edbe89fd62\n",
            "\r\n",
            "Tiempo de encriptacion para el archivo (500 palabras): 0.00021409988403320312\n",
            "\r\n",
            "No se pudo desencriptar\n",
            "\r\n",
            "Tiempo de desencriptacion para el archivo (500 palabras): 0.003537893295288086\n"
          ]
        }
      ]
    },
    {
      "cell_type": "code",
      "source": [
        "start_file = time.time() \n",
        "\n",
        "f = open ('1kw.txt', 'r')\n",
        "mensajeOriginal = f.read()\n",
        "\n",
        "end_file = time.time()\n",
        "print(\"Tiempo de lectura para el archivo (1000 palabras): \" + format(end_file-start_file))\n",
        "print(\"\\r\")\n",
        "\n",
        "start_encrypt = time.time() \n",
        "\n",
        "md5_hash = hashlib.md5(mensajeOriginal.encode())\n",
        "\n",
        "result = md5_hash.hexdigest()\n",
        "print(\"Cifrado hexadecimal: \"+result)\n",
        "print(\"\\r\")\n",
        "end_encrypt = time.time()\n",
        "print(\"Tiempo de encriptacion para el archivo (1000 palabras): \" + format(end_encrypt-start_encrypt))\n",
        "print(\"\\r\")\n",
        "\n",
        "\n",
        "start_desencrypt = time.time() \n",
        "\n",
        "diccionario = open ('diccionario.txt', 'r')\n",
        "\n",
        "for x in diccionario.readlines():\n",
        "            a = hashlib.md5(x.encode())\n",
        "            cmp = a.hexdigest()\n",
        "\n",
        "            if cmp == result:\n",
        "                print(\"Contraseña: %s - Has resuelto: %s - Encriptado con: %s\" %(str(a.rstrip()),str(cmp),str(type)))\n",
        "                print(\"\\r\")\n",
        "            else:\n",
        "                print(\"No se pudo desencriptar\")\n",
        "                print(\"\\r\")\n",
        "                break\n",
        "\n",
        "end_desencrypt = time.time() \n",
        "print(\"Tiempo de desencriptacion para el archivo (1000 palabras): \" + format(end_desencrypt-start_desencrypt))"
      ],
      "metadata": {
        "colab": {
          "base_uri": "https://localhost:8080/"
        },
        "outputId": "cd3cf321-d145-4aed-9cf7-e1d612d546f9",
        "id": "8_zHuSv9aqVw"
      },
      "execution_count": null,
      "outputs": [
        {
          "output_type": "stream",
          "name": "stdout",
          "text": [
            "Tiempo de lectura para el archivo (1000 palabras): 0.00019979476928710938\n",
            "\r\n",
            "Cifrado hexadecimal: 08b44b5ec80b6176fb16dd9abe9530ef\n",
            "\r\n",
            "Tiempo de encriptacion para el archivo (1000 palabras): 0.0010013580322265625\n",
            "\r\n",
            "No se pudo desencriptar\n",
            "\r\n",
            "Tiempo de desencriptacion para el archivo (1000 palabras): 0.0012404918670654297\n"
          ]
        }
      ]
    },
    {
      "cell_type": "code",
      "source": [
        "start_file = time.time() \n",
        "\n",
        "f = open ('2kw.txt', 'r')\n",
        "mensajeOriginal = f.read()\n",
        "\n",
        "end_file = time.time()\n",
        "print(\"Tiempo de lectura para el archivo (2000 palabras): \" + format(end_file-start_file))\n",
        "print(\"\\r\")\n",
        "\n",
        "start_encrypt = time.time() \n",
        "\n",
        "md5_hash = hashlib.md5(mensajeOriginal.encode())\n",
        "\n",
        "result = md5_hash.hexdigest()\n",
        "print(\"Cifrado hexadecimal: \"+result)\n",
        "print(\"\\r\")\n",
        "end_encrypt = time.time()\n",
        "print(\"Tiempo de encriptacion para el archivo (2000 palabras): \" + format(end_encrypt-start_encrypt))\n",
        "print(\"\\r\")\n",
        "\n",
        "\n",
        "start_desencrypt = time.time() \n",
        "\n",
        "diccionario = open ('diccionario.txt', 'r')\n",
        "\n",
        "for x in diccionario.readlines():\n",
        "            a = hashlib.md5(x.encode())\n",
        "            cmp = a.hexdigest()\n",
        "\n",
        "            if cmp == result:\n",
        "                print(\"Contraseña: %s - Has resuelto: %s - Encriptado con: %s\" %(str(a.rstrip()),str(cmp),str(type)))\n",
        "                print(\"\\r\")\n",
        "            else:\n",
        "                print(\"No se pudo desencriptar\")\n",
        "                print(\"\\r\")\n",
        "                break\n",
        "\n",
        "end_desencrypt = time.time() \n",
        "print(\"Tiempo de desencriptacion para el archivo (2000 palabras): \" + format(end_desencrypt-start_desencrypt))"
      ],
      "metadata": {
        "colab": {
          "base_uri": "https://localhost:8080/"
        },
        "outputId": "23f80766-1d0c-4343-b51d-e1ca24777c6e",
        "id": "XbrDyRthal61"
      },
      "execution_count": null,
      "outputs": [
        {
          "output_type": "stream",
          "name": "stdout",
          "text": [
            "Tiempo de lectura para el archivo (2000 palabras): 0.00021529197692871094\n",
            "\r\n",
            "Cifrado hexadecimal: 4befe759dffe2c6a1d329e9cde94e20c\n",
            "\r\n",
            "Tiempo de encriptacion para el archivo (2000 palabras): 0.0019979476928710938\n",
            "\r\n",
            "No se pudo desencriptar\n",
            "\r\n",
            "Tiempo de desencriptacion para el archivo (2000 palabras): 0.0028138160705566406\n"
          ]
        }
      ]
    },
    {
      "cell_type": "code",
      "source": [
        "start_file = time.time() \n",
        "\n",
        "f = open ('5kw.txt', 'r')\n",
        "mensajeOriginal = f.read()\n",
        "\n",
        "end_file = time.time()\n",
        "print(\"Tiempo de lectura para el archivo (5000 palabras): \" + format(end_file-start_file))\n",
        "print(\"\\r\")\n",
        "\n",
        "start_encrypt = time.time() \n",
        "\n",
        "md5_hash = hashlib.md5(mensajeOriginal.encode())\n",
        "\n",
        "result = md5_hash.hexdigest()\n",
        "print(\"Cifrado hexadecimal: \"+result)\n",
        "print(\"\\r\")\n",
        "end_encrypt = time.time()\n",
        "print(\"Tiempo de encriptacion para el archivo (5000 palabras): \" + format(end_encrypt-start_encrypt))\n",
        "print(\"\\r\")\n",
        "\n",
        "\n",
        "start_desencrypt = time.time() \n",
        "\n",
        "diccionario = open ('diccionario.txt', 'r')\n",
        "\n",
        "for x in diccionario.readlines():\n",
        "            a = hashlib.md5(x.encode())\n",
        "            cmp = a.hexdigest()\n",
        "\n",
        "            if cmp == result:\n",
        "                print(\"Contraseña: %s - Has resuelto: %s - Encriptado con: %s\" %(str(a.rstrip()),str(cmp),str(type)))\n",
        "                print(\"\\r\")\n",
        "            else:\n",
        "                print(\"No se pudo desencriptar\")\n",
        "                print(\"\\r\")\n",
        "                break\n",
        "\n",
        "end_desencrypt = time.time() \n",
        "print(\"Tiempo de desencriptacion para el archivo (5000 palabras): \" + format(end_desencrypt-start_desencrypt))"
      ],
      "metadata": {
        "colab": {
          "base_uri": "https://localhost:8080/"
        },
        "outputId": "95eaf0f3-5ebc-4397-bb10-07022f470a50",
        "id": "4WtQhY4lahIr"
      },
      "execution_count": null,
      "outputs": [
        {
          "output_type": "stream",
          "name": "stdout",
          "text": [
            "Tiempo de lectura para el archivo (5000 palabras): 0.001699209213256836\n",
            "\r\n",
            "Cifrado hexadecimal: 41db7269e47ce6db6e0b846f3b2dc2d8\n",
            "\r\n",
            "Tiempo de encriptacion para el archivo (5000 palabras): 0.004000186920166016\n",
            "\r\n",
            "No se pudo desencriptar\n",
            "\r\n",
            "Tiempo de desencriptacion para el archivo (5000 palabras): 0.0005481243133544922\n"
          ]
        }
      ]
    },
    {
      "cell_type": "code",
      "source": [
        "start_file = time.time() \n",
        "\n",
        "f = open ('10kw.txt', 'r')\n",
        "mensajeOriginal = f.read()\n",
        "\n",
        "end_file = time.time()\n",
        "print(\"Tiempo de lectura para el archivo (10000 palabras): \" + format(end_file-start_file))\n",
        "print(\"\\r\")\n",
        "\n",
        "start_encrypt = time.time() \n",
        "\n",
        "md5_hash = hashlib.md5(mensajeOriginal.encode())\n",
        "\n",
        "result = md5_hash.hexdigest()\n",
        "print(\"Cifrado hexadecimal: \"+result)\n",
        "print(\"\\r\")\n",
        "end_encrypt = time.time()\n",
        "print(\"Tiempo de encriptacion para el archivo (10000 palabras): \" + format(end_encrypt-start_encrypt))\n",
        "print(\"\\r\")\n",
        "\n",
        "\n",
        "start_desencrypt = time.time() \n",
        "\n",
        "diccionario = open ('diccionario.txt', 'r')\n",
        "\n",
        "for x in diccionario.readlines():\n",
        "            a = hashlib.md5(x.encode())\n",
        "            cmp = a.hexdigest()\n",
        "\n",
        "            if cmp == result:\n",
        "                print(\"Contraseña: %s - Has resuelto: %s - Encriptado con: %s\" %(str(a.rstrip()),str(cmp),str(type)))\n",
        "                print(\"\\r\")\n",
        "            else:\n",
        "                print(\"No se pudo desencriptar\")\n",
        "                print(\"\\r\")\n",
        "                break\n",
        "\n",
        "end_desencrypt = time.time() \n",
        "print(\"Tiempo de desencriptacion para el archivo (10000 palabras): \" + format(end_desencrypt-start_desencrypt))"
      ],
      "metadata": {
        "colab": {
          "base_uri": "https://localhost:8080/"
        },
        "id": "T-C7mg_D4gE1",
        "outputId": "30fcb1f4-9783-430d-c3c8-a612efa1f800"
      },
      "execution_count": null,
      "outputs": [
        {
          "output_type": "stream",
          "name": "stdout",
          "text": [
            "Tiempo de lectura para el archivo (10000 palabras): 0.0005512237548828125\n",
            "\r\n",
            "Cifrado hexadecimal: 5c4ac4d5544df34c49c4d845df84131c\n",
            "\r\n",
            "Tiempo de encriptacion para el archivo (10000 palabras): 0.0014865398406982422\n",
            "\r\n",
            "No se pudo desencriptar\n",
            "\r\n",
            "Tiempo de desencriptacion para el archivo (10000 palabras): 0.0012602806091308594\n"
          ]
        }
      ]
    },
    {
      "cell_type": "markdown",
      "source": [
        "**Función SHA1**"
      ],
      "metadata": {
        "id": "3-ANTv29Zy9d"
      }
    },
    {
      "cell_type": "code",
      "source": [
        "start_file = time.time() \n",
        "\n",
        "f = open ('250w.txt', 'r')\n",
        "mensajeOriginal = f.read()\n",
        "\n",
        "end_file = time.time()\n",
        "print(\"Tiempo de lectura para el archivo (250 palabras): \" + format(end_file-start_file))\n",
        "print(\"\\r\")\n",
        "\n",
        "start_encrypt = time.time() \n",
        "\n",
        "result = hashlib.sha1(mensajeOriginal.encode()) \n",
        "\n",
        "print(\"Cifrado hexadecimal : \"+result.hexdigest()) \n",
        "print(\"\\r\")\n",
        "end_encrypt = time.time()\n",
        "print(\"Tiempo de encriptacion para el archivo (250 palabras): \" + format(end_encrypt-start_encrypt))\n",
        "print(\"\\r\")\n",
        "\n",
        "start_desencrypt = time.time() \n",
        "\n",
        "diccionario = open ('diccionario.txt', 'r')\n",
        "\n",
        "for x in diccionario.readlines():\n",
        "            a = hashlib.sha1(x.encode())\n",
        "            cmp = a.hexdigest()\n",
        "\n",
        "            if cmp == result:\n",
        "                print(\"Contraseña: %s - Has resuelto: %s - Encriptado con: %s\" %(str(a.rstrip()),str(cmp),str(type)))\n",
        "                print(\"\\r\")\n",
        "            else:\n",
        "                print(\"No se pudo desencriptar\")\n",
        "                print(\"\\r\")\n",
        "                break\n",
        "\n",
        "end_desencrypt = time.time() \n",
        "print(\"Tiempo de desencriptacion para el archivo (250 palabras): \" + format(end_desencrypt-start_desencrypt))\n"
      ],
      "metadata": {
        "colab": {
          "base_uri": "https://localhost:8080/"
        },
        "outputId": "2623b9cb-f97f-4839-bca8-3c0dc65c4717",
        "id": "ucKmEOkFaYEs"
      },
      "execution_count": null,
      "outputs": [
        {
          "output_type": "stream",
          "name": "stdout",
          "text": [
            "Tiempo de lectura para el archivo (250 palabras): 0.00017714500427246094\n",
            "\r\n",
            "Cifrado hexadecimal : 64d6cbca413230c9d6f8a11c6872a6078f2fe96c\n",
            "\r\n",
            "Tiempo de encriptacion para el archivo (250 palabras): 0.00017380714416503906\n",
            "\r\n",
            "No se pudo desencriptar\n",
            "\r\n",
            "Tiempo de desencriptacion para el archivo (250 palabras): 0.0031087398529052734\n"
          ]
        }
      ]
    },
    {
      "cell_type": "code",
      "source": [
        "start_file = time.time() \n",
        "\n",
        "f = open ('500w.txt', 'r')\n",
        "mensajeOriginal = f.read()\n",
        "\n",
        "end_file = time.time()\n",
        "print(\"Tiempo de lectura para el archivo (500 palabras): \" + format(end_file-start_file))\n",
        "print(\"\\r\")\n",
        "\n",
        "start_encrypt = time.time() \n",
        "\n",
        "result = hashlib.sha1(mensajeOriginal.encode()) \n",
        "\n",
        "print(\"Cifrado hexadecimal : \"+result.hexdigest()) \n",
        "print(\"\\r\")\n",
        "end_encrypt = time.time()\n",
        "print(\"Tiempo de encriptacion para el archivo (500 palabras): \" + format(end_encrypt-start_encrypt))\n",
        "print(\"\\r\")\n",
        "\n",
        "start_desencrypt = time.time() \n",
        "\n",
        "diccionario = open ('diccionario.txt', 'r')\n",
        "\n",
        "for x in diccionario.readlines():\n",
        "            a = hashlib.sha1(x.encode())\n",
        "            cmp = a.hexdigest()\n",
        "\n",
        "            if cmp == result:\n",
        "                print(\"Contraseña: %s - Has resuelto: %s - Encriptado con: %s\" %(str(a.rstrip()),str(cmp),str(type)))\n",
        "                print(\"\\r\")\n",
        "            else:\n",
        "                print(\"No se pudo desencriptar\")\n",
        "                print(\"\\r\")\n",
        "                break\n",
        "\n",
        "end_desencrypt = time.time() \n",
        "print(\"Tiempo de desencriptacion para el archivo (500 palabras): \" + format(end_desencrypt-start_desencrypt))\n"
      ],
      "metadata": {
        "colab": {
          "base_uri": "https://localhost:8080/"
        },
        "outputId": "f23292f3-c6fa-44af-c627-f1c3bc3813c9",
        "id": "CdHSe69UaTke"
      },
      "execution_count": null,
      "outputs": [
        {
          "output_type": "stream",
          "name": "stdout",
          "text": [
            "Tiempo de lectura para el archivo (500 palabras): 0.00019359588623046875\n",
            "\r\n",
            "Cifrado hexadecimal : 93a38790b58535e07bf103b17e934b5cafabea96\n",
            "\r\n",
            "Tiempo de encriptacion para el archivo (500 palabras): 0.0008897781372070312\n",
            "\r\n",
            "No se pudo desencriptar\n",
            "\r\n",
            "Tiempo de desencriptacion para el archivo (500 palabras): 0.0011641979217529297\n"
          ]
        }
      ]
    },
    {
      "cell_type": "code",
      "source": [
        "start_file = time.time() \n",
        "\n",
        "f = open ('1kw.txt', 'r')\n",
        "mensajeOriginal = f.read()\n",
        "\n",
        "end_file = time.time()\n",
        "print(\"Tiempo de lectura para el archivo (1000 palabras): \" + format(end_file-start_file))\n",
        "print(\"\\r\")\n",
        "\n",
        "start_encrypt = time.time() \n",
        "\n",
        "result = hashlib.sha1(mensajeOriginal.encode()) \n",
        "\n",
        "print(\"Cifrado hexadecimal : \"+result.hexdigest()) \n",
        "print(\"\\r\")\n",
        "end_encrypt = time.time()\n",
        "print(\"Tiempo de encriptacion para el archivo (1000 palabras): \" + format(end_encrypt-start_encrypt))\n",
        "print(\"\\r\")\n",
        "\n",
        "start_desencrypt = time.time() \n",
        "\n",
        "diccionario = open ('diccionario.txt', 'r')\n",
        "\n",
        "for x in diccionario.readlines():\n",
        "            a = hashlib.sha1(x.encode())\n",
        "            cmp = a.hexdigest()\n",
        "\n",
        "            if cmp == result:\n",
        "                print(\"Contraseña: %s - Has resuelto: %s - Encriptado con: %s\" %(str(a.rstrip()),str(cmp),str(type)))\n",
        "                print(\"\\r\")\n",
        "            else:\n",
        "                print(\"No se pudo desencriptar\")\n",
        "                print(\"\\r\")\n",
        "                break\n",
        "\n",
        "end_desencrypt = time.time() \n",
        "print(\"Tiempo de desencriptacion para el archivo (1000 palabras): \" + format(end_desencrypt-start_desencrypt))\n"
      ],
      "metadata": {
        "colab": {
          "base_uri": "https://localhost:8080/"
        },
        "outputId": "668843f7-6d86-4dfd-b107-67afb04893bf",
        "id": "-zwYMYBUaPUR"
      },
      "execution_count": null,
      "outputs": [
        {
          "output_type": "stream",
          "name": "stdout",
          "text": [
            "Tiempo de lectura para el archivo (1000 palabras): 0.0002002716064453125\n",
            "\r\n",
            "Cifrado hexadecimal : 0fe616351d2f5570906368310f80a454c27d6e61\n",
            "\r\n",
            "Tiempo de encriptacion para el archivo (1000 palabras): 0.0008413791656494141\n",
            "\r\n",
            "No se pudo desencriptar\n",
            "\r\n",
            "Tiempo de desencriptacion para el archivo (1000 palabras): 0.0010864734649658203\n"
          ]
        }
      ]
    },
    {
      "cell_type": "code",
      "source": [
        "start_file = time.time() \n",
        "\n",
        "f = open ('2kw.txt', 'r')\n",
        "mensajeOriginal = f.read()\n",
        "\n",
        "end_file = time.time()\n",
        "print(\"Tiempo de lectura para el archivo (2000 palabras): \" + format(end_file-start_file))\n",
        "print(\"\\r\")\n",
        "\n",
        "start_encrypt = time.time() \n",
        "\n",
        "result = hashlib.sha1(mensajeOriginal.encode()) \n",
        "\n",
        "print(\"Cifrado hexadecimal : \"+result.hexdigest()) \n",
        "print(\"\\r\")\n",
        "end_encrypt = time.time()\n",
        "print(\"Tiempo de encriptacion para el archivo (2000 palabras): \" + format(end_encrypt-start_encrypt))\n",
        "print(\"\\r\")\n",
        "\n",
        "start_desencrypt = time.time() \n",
        "\n",
        "diccionario = open ('diccionario.txt', 'r')\n",
        "\n",
        "for x in diccionario.readlines():\n",
        "            a = hashlib.sha1(x.encode())\n",
        "            cmp = a.hexdigest()\n",
        "\n",
        "            if cmp == result:\n",
        "                print(\"Contraseña: %s - Has resuelto: %s - Encriptado con: %s\" %(str(a.rstrip()),str(cmp),str(type)))\n",
        "                print(\"\\r\")\n",
        "            else:\n",
        "                print(\"No se pudo desencriptar\")\n",
        "                print(\"\\r\")\n",
        "                break\n",
        "\n",
        "end_desencrypt = time.time() \n",
        "print(\"Tiempo de desencriptacion para el archivo (2000 palabras): \" + format(end_desencrypt-start_desencrypt))\n"
      ],
      "metadata": {
        "colab": {
          "base_uri": "https://localhost:8080/"
        },
        "outputId": "e79411b8-71df-4506-9486-e5e2c8f0db3e",
        "id": "sJkvXSvAaDNX"
      },
      "execution_count": null,
      "outputs": [
        {
          "output_type": "stream",
          "name": "stdout",
          "text": [
            "Tiempo de lectura para el archivo (2000 palabras): 0.00023651123046875\n",
            "\r\n",
            "Cifrado hexadecimal : 6b58f62f10ccfcfdbf22018172718e9052344532\n",
            "\r\n",
            "Tiempo de encriptacion para el archivo (2000 palabras): 0.0008876323699951172\n",
            "\r\n",
            "No se pudo desencriptar\n",
            "\r\n",
            "Tiempo de desencriptacion para el archivo (2000 palabras): 0.0012006759643554688\n"
          ]
        }
      ]
    },
    {
      "cell_type": "code",
      "source": [
        "start_file = time.time() \n",
        "\n",
        "f = open ('5kw.txt', 'r')\n",
        "mensajeOriginal = f.read()\n",
        "\n",
        "end_file = time.time()\n",
        "print(\"Tiempo de lectura para el archivo (5000 palabras): \" + format(end_file-start_file))\n",
        "print(\"\\r\")\n",
        "\n",
        "start_encrypt = time.time() \n",
        "\n",
        "result = hashlib.sha1(mensajeOriginal.encode()) \n",
        "\n",
        "print(\"Cifrado hexadecimal : \"+result.hexdigest()) \n",
        "print(\"\\r\")\n",
        "end_encrypt = time.time()\n",
        "print(\"Tiempo de encriptacion para el archivo (5000 palabras): \" + format(end_encrypt-start_encrypt))\n",
        "print(\"\\r\")\n",
        "\n",
        "start_desencrypt = time.time() \n",
        "\n",
        "diccionario = open ('diccionario.txt', 'r')\n",
        "\n",
        "for x in diccionario.readlines():\n",
        "            a = hashlib.sha1(x.encode())\n",
        "            cmp = a.hexdigest()\n",
        "\n",
        "            if cmp == result:\n",
        "                print(\"Contraseña: %s - Has resuelto: %s - Encriptado con: %s\" %(str(a.rstrip()),str(cmp),str(type)))\n",
        "                print(\"\\r\")\n",
        "            else:\n",
        "                print(\"No se pudo desencriptar\")\n",
        "                print(\"\\r\")\n",
        "                break\n",
        "\n",
        "end_desencrypt = time.time() \n",
        "print(\"Tiempo de desencriptacion para el archivo (5000 palabras): \" + format(end_desencrypt-start_desencrypt))\n"
      ],
      "metadata": {
        "colab": {
          "base_uri": "https://localhost:8080/"
        },
        "outputId": "52030313-1c41-4ee1-ad1a-030bc81a15fa",
        "id": "43gw-AofZ74w"
      },
      "execution_count": null,
      "outputs": [
        {
          "output_type": "stream",
          "name": "stdout",
          "text": [
            "Tiempo de lectura para el archivo (5000 palabras): 0.0019762516021728516\n",
            "\r\n",
            "Cifrado hexadecimal : b8bf4bc15b3137a5433997428d60352147c6c829\n",
            "\r\n",
            "Tiempo de encriptacion para el archivo (5000 palabras): 0.0002455711364746094\n",
            "\r\n",
            "No se pudo desencriptar\n",
            "\r\n",
            "Tiempo de desencriptacion para el archivo (5000 palabras): 0.0005502700805664062\n"
          ]
        }
      ]
    },
    {
      "cell_type": "code",
      "source": [
        "start_file = time.time() \n",
        "\n",
        "f = open ('10kw.txt', 'r')\n",
        "mensajeOriginal = f.read()\n",
        "\n",
        "end_file = time.time()\n",
        "print(\"Tiempo de lectura para el archivo (10000 palabras): \" + format(end_file-start_file))\n",
        "print(\"\\r\")\n",
        "\n",
        "start_encrypt = time.time() \n",
        "\n",
        "result = hashlib.sha1(mensajeOriginal.encode()) \n",
        "\n",
        "print(\"Cifrado hexadecimal : \"+result.hexdigest()) \n",
        "print(\"\\r\")\n",
        "end_encrypt = time.time()\n",
        "print(\"Tiempo de encriptacion para el archivo (10000 palabras): \" + format(end_encrypt-start_encrypt))\n",
        "print(\"\\r\")\n",
        "\n",
        "start_desencrypt = time.time() \n",
        "\n",
        "diccionario = open ('diccionario.txt', 'r')\n",
        "\n",
        "for x in diccionario.readlines():\n",
        "            a = hashlib.sha1(x.encode())\n",
        "            cmp = a.hexdigest()\n",
        "\n",
        "            if cmp == result:\n",
        "                print(\"Contraseña: %s - Has resuelto: %s - Encriptado con: %s\" %(str(a.rstrip()),str(cmp),str(type)))\n",
        "                print(\"\\r\")\n",
        "            else:\n",
        "                print(\"No se pudo desencriptar\")\n",
        "                print(\"\\r\")\n",
        "                break\n",
        "\n",
        "end_desencrypt = time.time() \n",
        "print(\"Tiempo de desencriptacion para el archivo (10000 palabras): \" + format(end_desencrypt-start_desencrypt))\n"
      ],
      "metadata": {
        "id": "WhKwxrTG4t0G",
        "colab": {
          "base_uri": "https://localhost:8080/"
        },
        "outputId": "9010c15b-fbb2-49f3-b255-c2d472dca6c3"
      },
      "execution_count": null,
      "outputs": [
        {
          "output_type": "stream",
          "name": "stdout",
          "text": [
            "Tiempo de lectura para el archivo (10000 palabras): 0.0004527568817138672\n",
            "\r\n",
            "Cifrado hexadecimal : 730018b9061c89bc988d7d9b9377ce18a3c98b05\n",
            "\r\n",
            "Tiempo de encriptacion para el archivo (10000 palabras): 0.001043081283569336\n",
            "\r\n",
            "No se pudo desencriptar\n",
            "\r\n",
            "Tiempo de desencriptacion para el archivo (10000 palabras): 0.0011148452758789062\n"
          ]
        }
      ]
    },
    {
      "cell_type": "markdown",
      "source": [
        "\n",
        "\n",
        "**Tabla Comparativa Funciones Hash**"
      ],
      "metadata": {
        "id": "SgDBoGvy5J1d"
      }
    },
    {
      "cell_type": "markdown",
      "source": [
        "![image.png](data:image/png;base64,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)"
      ],
      "metadata": {
        "id": "5fXpyV8r0aY_"
      }
    }
  ]
}