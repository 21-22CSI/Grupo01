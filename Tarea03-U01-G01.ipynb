{
  "nbformat": 4,
  "nbformat_minor": 0,
  "metadata": {
    "colab": {
      "name": "CriptoTareaG1.ipynb",
      "provenance": [],
      "collapsed_sections": []
    },
    "kernelspec": {
      "name": "python3",
      "display_name": "Python 3"
    },
    "language_info": {
      "name": "python"
    }
  },
  "cells": [
    {
      "cell_type": "markdown",
      "source": [
        "**1.** Algoritmo que escriba todas las permutaciones posibles de una palabra de longitud n (Anagrama). Tanto la palabra como el valor de n se ingresan al iniciar el algoritmo. El algoritmo debe mostrar el número total de permutaciones y todas ellas ordenadas alfabéticamente."
      ],
      "metadata": {
        "id": "_fkxFVkfV_Xr"
      }
    },
    {
      "cell_type": "code",
      "source": [
        "from itertools import permutations\n",
        "print(\"Ingrese la palabra: \")\n",
        "word = input()\n",
        "print(\"Ingrese n\")\n",
        "n = input()\n",
        "lst = list(permutations(word))\n",
        "print(\"El numero total de permutaciones es \", len(lst))\n",
        "print(sorted(lst))"
      ],
      "metadata": {
        "id": "2DQuCgGERLgJ",
        "colab": {
          "base_uri": "https://localhost:8080/"
        },
        "outputId": "b35a42e1-9211-47b4-f03c-6857ea1be775"
      },
      "execution_count": null,
      "outputs": [
        {
          "output_type": "stream",
          "name": "stdout",
          "text": [
            "Ingrese la palabra: \n",
            "Lost\n",
            "Ingrese n\n",
            "4\n",
            "El numero total de permutaciones es  24\n",
            "[('L', 'o', 's', 't'), ('L', 'o', 't', 's'), ('L', 's', 'o', 't'), ('L', 's', 't', 'o'), ('L', 't', 'o', 's'), ('L', 't', 's', 'o'), ('o', 'L', 's', 't'), ('o', 'L', 't', 's'), ('o', 's', 'L', 't'), ('o', 's', 't', 'L'), ('o', 't', 'L', 's'), ('o', 't', 's', 'L'), ('s', 'L', 'o', 't'), ('s', 'L', 't', 'o'), ('s', 'o', 'L', 't'), ('s', 'o', 't', 'L'), ('s', 't', 'L', 'o'), ('s', 't', 'o', 'L'), ('t', 'L', 'o', 's'), ('t', 'L', 's', 'o'), ('t', 'o', 'L', 's'), ('t', 'o', 's', 'L'), ('t', 's', 'L', 'o'), ('t', 's', 'o', 'L')]\n"
          ]
        }
      ]
    },
    {
      "cell_type": "markdown",
      "source": [
        "**2.** Algoritmo que realice el cifrado de un mensaje por permutación de filas, teniendo como clave n filas. Tanto n como el texto del mensaje se ingresan al iniciar el algoritmo. El algoritmo debe controlar que el número de caracteres del mensaje (sin espacios), sea menor o igual que n x n. Imprima la matriz de cifrado, el mensaje original y el mensaje cifrado. Si en la matriz de cifrado sobran espacios para almacenar los caracteres del mensaje original, estos deben llenarse con \"0\".\n"
      ],
      "metadata": {
        "id": "7ImFChjDXXOD"
      }
    },
    {
      "cell_type": "code",
      "source": [
        "from itertools import permutations\n",
        "from math import ceil\n",
        "\n",
        "print(\"Ingrese el mensaje a cifrar\")\n",
        "msj = input().replace(\" \",\"\").upper()\n",
        "numLet = len(msj)\n",
        "\n",
        "print(\"Ingrese el numero de filas\")\n",
        "n = int(input())\n",
        "\n",
        "result = \"\"\n",
        "\n",
        "numColumnas = n\n",
        "numElements = n * numColumnas\n",
        "\n",
        "print(f'El numero de columnas es: {numColumnas}')\n",
        "\n",
        "print(f'Mensaje Original {msj}')\n",
        "\n",
        "msjCif = msj\n",
        "\n",
        "for k in range(len(msjCif)):\n",
        "  if len(msjCif) < numElements:\n",
        "    msjCif = msjCif+\"O\"\n",
        "\n",
        "print(\"Matriz de cifrado:\")\n",
        "for i in range(n):\n",
        "  print(msjCif[i::n])\n",
        "  result += msjCif[i::n]\n",
        "  \n",
        "print(f'Mensaje cifrado: {result}')"
      ],
      "metadata": {
        "id": "eiO9OhbnXZ-C",
        "colab": {
          "base_uri": "https://localhost:8080/"
        },
        "outputId": "9baa6582-4df6-4c47-877c-f179492713f9"
      },
      "execution_count": null,
      "outputs": [
        {
          "output_type": "stream",
          "name": "stdout",
          "text": [
            "Ingrese el mensaje a cifrar\n",
            "HOLA MUNDO\n",
            "Ingrese el numero de filas\n",
            "4\n",
            "El numero de columnas es: 4\n",
            "Mensaje Original HOLAMUNDO\n",
            "Matriz de cifrado:\n",
            "HMOO\n",
            "OUOO\n",
            "LNOO\n",
            "ADOO\n",
            "Mensaje cifrado: HMOOOUOOLNOOADOO\n"
          ]
        }
      ]
    },
    {
      "cell_type": "markdown",
      "source": [
        "**3.** Algoritmo que realice el cifrado de un mensaje por permutación de columnas, teniendo como clave n columnas. Tanto n como el texto del mensaje se ingresan al iniciar el algoritmo. El algoritmo debe controlar que el número de caracteres del mensaje (sin espacios), sea menor o igual que n x n. Imprima la matriz de cifrado, el mensaje original y el mensaje cifrado.  Si en la matriz de cifrado sobran espacios para almacenar los caracteres del mensaje original, estos deben llenarse con \"0\"."
      ],
      "metadata": {
        "id": "VSSiQn81XxOs"
      }
    },
    {
      "cell_type": "code",
      "source": [
        "from itertools import permutations\n",
        "from math import ceil\n",
        "import numpy as np\n",
        "\n",
        "print(\"Ingrese el mensaje a cifrar\")\n",
        "msj = input().replace(\" \",\"\").upper()\n",
        "numLon = len(msj)\n",
        "print(numLon)\n",
        "\n",
        "print(\"Ingrese el numero de columnas\")\n",
        "num = int(input())\n",
        "\n",
        "condicion = num*num\n",
        "\n",
        "if numLon > condicion:\n",
        "  print(\"Imposible cifrar\")\n",
        "else:\n",
        "  result = \"\"\n",
        "\n",
        "  print(f'La clave de columnas es: {num}')\n",
        "\n",
        "  print(f'Mensaje Original {msj}')\n",
        "\n",
        "  msjCif = msj\n",
        "\n",
        "  lista = np.array([\"O\"]*condicion).reshape((num,num))\n",
        "  \n",
        "  print(\"Matriz de cifrado:\")\n",
        "  for i in range(numLon):\n",
        "    for j in range(numLon):\n",
        "        lista.put([i,j], msj[j])\n",
        "  print(lista)\n",
        "\n",
        "  for k in range(lista.size):\n",
        "   if len(msjCif) < condicion:\n",
        "     msjCif = msjCif+\"O\"\n",
        "\n",
        "  for i in range(num):\n",
        "    print(msjCif[i::num])\n",
        "    result += msjCif[i::num]\n",
        "  \n",
        "  print(f'Mensaje cifrado: {result}')"
      ],
      "metadata": {
        "id": "xO5y2neyX0Ic",
        "colab": {
          "base_uri": "https://localhost:8080/"
        },
        "outputId": "f7cf5da2-a119-490f-8323-eb4bd512c750"
      },
      "execution_count": null,
      "outputs": [
        {
          "output_type": "stream",
          "name": "stdout",
          "text": [
            "Ingrese el mensaje a cifrar\n",
            "HOLA MUNDO\n",
            "9\n",
            "Ingrese el numero de columnas\n",
            "3\n",
            "La clave de columnas es: 3\n",
            "Mensaje Original HOLAMUNDO\n",
            "Matriz de cifrado:\n",
            "[['H' 'O' 'L']\n",
            " ['A' 'M' 'U']\n",
            " ['N' 'D' 'O']]\n",
            "HAN\n",
            "OMD\n",
            "LUO\n",
            "Mensaje cifrado: HANOMDLUO\n"
          ]
        }
      ]
    },
    {
      "cell_type": "markdown",
      "source": [
        "**4.** Algoritmo que realice el cifrado de una cadena de caracteres mediante un método de sustitución Monoalfabético de desplazamiento n caracteres a la derecha. Tanto la palabra como el valor de n se ingresan al iniciar el algoritmo. El algoritmo debe mostrar el alfabeto original, el alfabeto cifrado, la cadena de caracteres ingresada y su resultado."
      ],
      "metadata": {
        "id": "35HfDui9X0lb"
      }
    },
    {
      "cell_type": "code",
      "source": [
        "alfabeto = ['a','b','c','d','e','f','g','h','i','j','k','l','m','n','ñ','o','p','q','r','s','t','u','v','w','x','y','z']\n",
        "alfabetoN = []\n",
        "print(\"Ingrese la palabra: \")\n",
        "word = input().replace(\" \",\"\").lower()\n",
        "\n",
        "print(\"Ingrese el numero de desplazamientos\")\n",
        "n = input()\n",
        "nnum = int(n) \n",
        "i,j, newWord = 0,0,\"\"\n",
        "while i<len(alfabeto): \n",
        "  alfabetoN.append((alfabeto[(i+nnum)%27]))\n",
        "  i+=1\n",
        "while j<len(word):\n",
        "  newWord+=alfabetoN[alfabeto.index(word[j])]\n",
        "  j+=1\n",
        "print(\"El alfabeto inicial es: \", alfabeto)\n",
        "print(\"El nuevo alfabeto es:   \", alfabetoN)\n",
        "print(\"La palabra inicial es: \", word )\n",
        "print(\"La nueva palabra es:   \",newWord)"
      ],
      "metadata": {
        "id": "LzxpKKdmX2oM",
        "colab": {
          "base_uri": "https://localhost:8080/"
        },
        "outputId": "7fae3b31-4e1c-4db8-818e-1d8227d5a692"
      },
      "execution_count": null,
      "outputs": [
        {
          "output_type": "stream",
          "name": "stdout",
          "text": [
            "Ingrese la palabra: \n",
            "Hola como\n",
            "Ingrese el numero de desplazamientos\n",
            "2\n",
            "El alfabeto inicial es:  ['a', 'b', 'c', 'd', 'e', 'f', 'g', 'h', 'i', 'j', 'k', 'l', 'm', 'n', 'ñ', 'o', 'p', 'q', 'r', 's', 't', 'u', 'v', 'w', 'x', 'y', 'z']\n",
            "El nuevo alfabeto es:    ['c', 'd', 'e', 'f', 'g', 'h', 'i', 'j', 'k', 'l', 'm', 'n', 'ñ', 'o', 'p', 'q', 'r', 's', 't', 'u', 'v', 'w', 'x', 'y', 'z', 'a', 'b']\n",
            "La palabra inicial es:  holacomo\n",
            "La nueva palabra es:    jqnceqñq\n"
          ]
        }
      ]
    },
    {
      "cell_type": "markdown",
      "source": [
        "**5**. "
      ],
      "metadata": {
        "id": "PwGo874IX28D"
      }
    },
    {
      "cell_type": "code",
      "source": [
        "text = input(\"Tu cadena inicial: \")\n",
        "crip_text = \"\"\n",
        "replace = {\n",
        "    \"a\":\"AA\",\n",
        "    \"b\":\"BA\",\n",
        "    \"c\":\"CA\",\n",
        "    \"d\":\"DA\",\n",
        "    \"e\":\"EA\",\n",
        "    \"f\":\"AB\",\n",
        "    \"g\":\"BB\",\n",
        "    \"h\":\"CB\",\n",
        "    \"i\":\"DB\",\n",
        "    \"j\":\"EB\",\n",
        "    \"k\":\"AC\",\n",
        "    \"l\":\"BC\",\n",
        "    \"m\":\"CC\",\n",
        "    \"n\":\"DC\",\n",
        "    \"o\":\"EC\",\n",
        "    \"p\":\"AD\",\n",
        "    \"r\":\"BD\",\n",
        "    \"s\":\"CD\",\n",
        "    \"t\":\"DD\",\n",
        "    \"u\":\"ED\",\n",
        "    \"v\":\"AE\",\n",
        "    \"w\":\"BE\",\n",
        "    \"x\":\"CE\",\n",
        "    \"y\":\"DE\",\n",
        "    \"z\":\"EE\",\n",
        "    \" \":\"00\",\n",
        "    \"q\":\"00\",\n",
        "    \"á\":\"00\",\n",
        "    \"é\":\"00\",\n",
        "    \"í\":\"00\",\n",
        "    \"ó\":\"00\",\n",
        "    \"ú\":\"00\",\n",
        "    \"1\":\"00\",\n",
        "    \"2\":\"00\",\n",
        "    \"3\":\"00\",\n",
        "    \"4\":\"00\",\n",
        "    \"5\":\"00\",\n",
        "    \"6\":\"00\",\n",
        "    \"7\":\"00\",\n",
        "    \"8\":\"00\",\n",
        "    \"9\":\"00\",\n",
        "    \"0\":\"00\",\n",
        "    \"ñ\":\"00\"\n",
        "}\n",
        "\n",
        "for ch in text.lower():\n",
        "  crip_text += replace.get(ch)\n",
        "  print(ch, \" -> \", replace.get(ch))\n",
        "\n",
        "print(\"Mensaje cifrado: \",crip_text)"
      ],
      "metadata": {
        "id": "Y3oyJNYiYCQs",
        "colab": {
          "base_uri": "https://localhost:8080/"
        },
        "outputId": "f19d47cb-4360-43fa-972f-35484f269b4e"
      },
      "execution_count": null,
      "outputs": [
        {
          "output_type": "stream",
          "name": "stdout",
          "text": [
            "Tu cadena inicial: leonardo\n",
            "l  ->  BC\n",
            "e  ->  EA\n",
            "o  ->  EC\n",
            "n  ->  DC\n",
            "a  ->  AA\n",
            "r  ->  BD\n",
            "d  ->  DA\n",
            "o  ->  EC\n",
            "Mensaje cifrado:  BCEAECDCAABDDAEC\n"
          ]
        }
      ]
    },
    {
      "cell_type": "code",
      "source": [
        ""
      ],
      "metadata": {
        "id": "84oYLj8HjnOw"
      },
      "execution_count": null,
      "outputs": []
    }
  ]
}