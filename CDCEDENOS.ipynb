{
  "nbformat": 4,
  "nbformat_minor": 0,
  "metadata": {
    "colab": {
      "provenance": [],
      "collapsed_sections": []
    },
    "kernelspec": {
      "name": "python3",
      "display_name": "Python 3"
    },
    "language_info": {
      "name": "python"
    }
  },
  "cells": [
    {
      "cell_type": "markdown",
      "source": [
        "EXAMEN DE CRIPTOGRAFIA"
      ],
      "metadata": {
        "id": "1Krms3YqS17g"
      }
    },
    {
      "cell_type": "code",
      "source": [
        "from itertools import permutations\n",
        "from math import ceil\n",
        "import numpy as np\n",
        "\n",
        "print(\"Ingrese el mensaje a cifrar\")\n",
        "msj = input().replace(\" \",\"\").upper()\n",
        "numLon = len(msj)\n",
        "print(numLon)\n",
        "\n",
        "\n",
        "num = 5\n",
        "condicion = num*num\n",
        "\n",
        "if numLon > condicion:\n",
        "  print(\"Imposible cifrar\")\n",
        "else:\n",
        "  result = \"\"\n",
        "\n",
        "  print(f'La clave de columnas es: {num}')\n",
        "\n",
        "  print(f'Mensaje Original {msj}')\n",
        "\n",
        "  msjCif = msj\n",
        "\n",
        "  lista = np.array([\"*\"]*condicion).reshape((num,num))\n",
        "  \n",
        "  print(\"Matriz de cifrado:\")\n",
        "  for i in range(numLon):\n",
        "    for j in range(numLon):\n",
        "        lista.put([i,j], msj[j])\n",
        "  print(lista)\n",
        "\n",
        "  for k in range(lista.size):\n",
        "   if len(msjCif) < condicion:\n",
        "     msjCif = msjCif+\"*\"\n",
        "\n",
        "  for i in range(num):\n",
        "    print(msjCif[i::num])\n",
        "    result += msjCif[i::num]\n",
        "  \n",
        "  print(f'Mensaje cifrado: {result}') \n"
      ],
      "metadata": {
        "colab": {
          "base_uri": "https://localhost:8080/"
        },
        "id": "qdrywFHeVYjj",
        "outputId": "3765ec0d-7d41-4c12-d181-11154aa564a3"
      },
      "execution_count": 2,
      "outputs": [
        {
          "output_type": "stream",
          "name": "stdout",
          "text": [
            "Ingrese el mensaje a cifrar\n",
            "holacomoestan\n",
            "13\n",
            "La clave de columnas es: 5\n",
            "Mensaje Original HOLACOMOESTAN\n",
            "Matriz de cifrado:\n",
            "[['H' 'O' 'L' 'A' 'C']\n",
            " ['O' 'M' 'O' 'E' 'S']\n",
            " ['T' 'A' 'N' '*' '*']\n",
            " ['*' '*' '*' '*' '*']\n",
            " ['*' '*' '*' '*' '*']]\n",
            "HOT**\n",
            "OMA**\n",
            "LON**\n",
            "AE***\n",
            "CS***\n",
            "Mensaje cifrado: HOT**OMA**LON**AE***CS***\n"
          ]
        }
      ]
    },
    {
      "cell_type": "code",
      "source": [],
      "metadata": {
        "id": "Ns2r5b5nZSc2"
      },
      "execution_count": null,
      "outputs": []
    },
    {
      "cell_type": "markdown",
      "source": [],
      "metadata": {
        "id": "pkdwtiWKwBCT"
      }
    }
  ]
}